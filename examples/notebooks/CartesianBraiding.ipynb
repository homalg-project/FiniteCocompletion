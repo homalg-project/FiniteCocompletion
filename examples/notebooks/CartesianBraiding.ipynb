{
 "cells": [
  {
   "cell_type": "markdown",
   "id": "860bfda2",
   "metadata": {},
   "source": [
    "In this notebook we *compute* the algorithm computing the braiding isomorphism $\\gamma: a \\times b \\to b \\times a$ in a cartesian (monoidal) category, i.e., a category with finite products."
   ]
  },
  {
   "cell_type": "code",
   "execution_count": 1,
   "id": "7dd790bc",
   "metadata": {},
   "outputs": [
    {
     "name": "stdout",
     "output_type": "stream",
     "text": [
      "CapAndHomalg v\u001b[32m1.4.7\u001b[39m\n",
      "Imported OSCAR's components GAP and Singular_jll\n",
      "Type: ?CapAndHomalg for more information\n"
     ]
    }
   ],
   "source": [
    "using CapAndHomalg"
   ]
  },
  {
   "cell_type": "code",
   "execution_count": 2,
   "id": "37ce9cb4",
   "metadata": {},
   "outputs": [],
   "source": [
    "LoadPackage( \"FiniteCocompletion\" )"
   ]
  },
  {
   "cell_type": "code",
   "execution_count": 3,
   "id": "d6523ed1",
   "metadata": {},
   "outputs": [],
   "source": [
    "LoadPackage( \"Algebroids\" )"
   ]
  },
  {
   "cell_type": "code",
   "execution_count": 4,
   "id": "a3162632",
   "metadata": {},
   "outputs": [],
   "source": [
    "LoadPackage( \"LazyCategories\" );"
   ]
  },
  {
   "cell_type": "code",
   "execution_count": 5,
   "id": "1ff4dda6",
   "metadata": {},
   "outputs": [
    {
     "data": {
      "text/plain": [
       "GAP: Q(a,b)[]"
      ]
     },
     "execution_count": 5,
     "metadata": {},
     "output_type": "execute_result"
    }
   ],
   "source": [
    "Q = RightQuiver( \"Q(a,b)[]\" )"
   ]
  },
  {
   "cell_type": "code",
   "execution_count": 6,
   "id": "3805a257",
   "metadata": {},
   "outputs": [
    {
     "data": {
      "text/plain": [
       "GAP: FreeCategory( RightQuiver( \"Q(a,b)[]\" ) )"
      ]
     },
     "execution_count": 6,
     "metadata": {},
     "output_type": "execute_result"
    }
   ],
   "source": [
    "C = FreeCategory( Q )"
   ]
  },
  {
   "cell_type": "code",
   "execution_count": 7,
   "id": "e4b9600a",
   "metadata": {},
   "outputs": [],
   "source": [
    "SetName( C.a, g\"C.a\" ); SetName( C.b, g\"C.b\" );"
   ]
  },
  {
   "cell_type": "code",
   "execution_count": 8,
   "id": "5e532fa7",
   "metadata": {},
   "outputs": [
    {
     "data": {
      "text/plain": [
       "GAP: FiniteStrictProductCompletion( FreeCategory( RightQuiver( \"Q(a,b)[]\" ) ) )"
      ]
     },
     "execution_count": 8,
     "metadata": {},
     "output_type": "execute_result"
    }
   ],
   "source": [
    "PC = FiniteStrictProductCompletion( C )"
   ]
  },
  {
   "cell_type": "code",
   "execution_count": 9,
   "id": "eb03fb6d",
   "metadata": {},
   "outputs": [
    {
     "data": {
      "text/plain": [
       "GAP: Opposite( FiniteStrictCoproductCocompletion( Opposite( FreeCategory( RightQuiver( \"Q(a,b)[]\" ) ) ) ) )"
      ]
     },
     "execution_count": 9,
     "metadata": {},
     "output_type": "execute_result"
    }
   ],
   "source": [
    "ModelingCategory( PC )"
   ]
  },
  {
   "cell_type": "code",
   "execution_count": 10,
   "id": "c79fa790",
   "metadata": {},
   "outputs": [
    {
     "data": {
      "text/plain": [
       "GAP: <An object in FiniteStrictProductCompletion( FreeCategory( RightQuiver( \"Q(a,b)[]\" ) ) )>"
      ]
     },
     "execution_count": 10,
     "metadata": {},
     "output_type": "execute_result"
    }
   ],
   "source": [
    "a = PC.a"
   ]
  },
  {
   "cell_type": "code",
   "execution_count": 11,
   "id": "10c7c46b",
   "metadata": {},
   "outputs": [
    {
     "data": {
      "text/plain": [
       "GAP: <An object in FiniteStrictProductCompletion( FreeCategory( RightQuiver( \"Q(a,b)[]\" ) ) )>"
      ]
     },
     "execution_count": 11,
     "metadata": {},
     "output_type": "execute_result"
    }
   ],
   "source": [
    "b = PC.b"
   ]
  },
  {
   "cell_type": "code",
   "execution_count": 12,
   "id": "08681ea8",
   "metadata": {},
   "outputs": [
    {
     "data": {
      "text/plain": [
       "GAP: <An object in FiniteStrictProductCompletion( FreeCategory( RightQuiver( \"Q(a,b)[]\" ) ) )>"
      ]
     },
     "execution_count": 12,
     "metadata": {},
     "output_type": "execute_result"
    }
   ],
   "source": [
    "ab = DirectProduct( a, b )"
   ]
  },
  {
   "cell_type": "code",
   "execution_count": 13,
   "id": "02501aa7",
   "metadata": {},
   "outputs": [
    {
     "name": "stdout",
     "output_type": "stream",
     "text": [
      "[ C.a, C.b ]\n",
      "\n",
      "An object in the finite product completion category given by the above data\n"
     ]
    }
   ],
   "source": [
    "Display( ab )"
   ]
  },
  {
   "cell_type": "code",
   "execution_count": 14,
   "id": "48fd9551",
   "metadata": {},
   "outputs": [
    {
     "data": {
      "text/plain": [
       "GAP: <An object in FiniteStrictProductCompletion( FreeCategory( RightQuiver( \"Q(a,b)[]\" ) ) )>"
      ]
     },
     "execution_count": 14,
     "metadata": {},
     "output_type": "execute_result"
    }
   ],
   "source": [
    "ba = DirectProduct( b, a )"
   ]
  },
  {
   "cell_type": "code",
   "execution_count": 15,
   "id": "a7c83d09",
   "metadata": {},
   "outputs": [
    {
     "name": "stdout",
     "output_type": "stream",
     "text": [
      "[ C.b, C.a ]\n",
      "\n",
      "An object in the finite product completion category given by the above data\n"
     ]
    }
   ],
   "source": [
    "Display( ba )"
   ]
  },
  {
   "cell_type": "code",
   "execution_count": 16,
   "id": "d2afcbc7",
   "metadata": {},
   "outputs": [
    {
     "data": {
      "text/plain": [
       "GAP: |1|"
      ]
     },
     "execution_count": 16,
     "metadata": {},
     "output_type": "execute_result"
    }
   ],
   "source": [
    "hom = HomStructure( ab, ba )"
   ]
  },
  {
   "cell_type": "code",
   "execution_count": 17,
   "id": "f449b7d4",
   "metadata": {},
   "outputs": [
    {
     "data": {
      "text/plain": [
       "GAP: [ |1| → |1| ]"
      ]
     },
     "execution_count": 17,
     "metadata": {},
     "output_type": "execute_result"
    }
   ],
   "source": [
    "g = ExactCoverWithGlobalElements( hom )"
   ]
  },
  {
   "cell_type": "code",
   "execution_count": 18,
   "id": "df5d3a32",
   "metadata": {},
   "outputs": [
    {
     "data": {
      "text/plain": [
       "GAP: <A morphism in FiniteStrictProductCompletion( FreeCategory( RightQuiver( \"Q(a,b)[]\" ) ) )>"
      ]
     },
     "execution_count": 18,
     "metadata": {},
     "output_type": "execute_result"
    }
   ],
   "source": [
    "γ = HomStructure( ab, ba, g[1] )"
   ]
  },
  {
   "cell_type": "code",
   "execution_count": 19,
   "id": "f8e164d5",
   "metadata": {},
   "outputs": [
    {
     "data": {
      "text/plain": [
       "true"
      ]
     },
     "execution_count": 19,
     "metadata": {},
     "output_type": "execute_result"
    }
   ],
   "source": [
    "Source( γ ) == ab"
   ]
  },
  {
   "cell_type": "code",
   "execution_count": 20,
   "id": "66e143ca",
   "metadata": {},
   "outputs": [
    {
     "data": {
      "text/plain": [
       "true"
      ]
     },
     "execution_count": 20,
     "metadata": {},
     "output_type": "execute_result"
    }
   ],
   "source": [
    "Range( γ ) == ba"
   ]
  },
  {
   "cell_type": "code",
   "execution_count": 21,
   "id": "675cd9fb",
   "metadata": {},
   "outputs": [
    {
     "data": {
      "text/plain": [
       "true"
      ]
     },
     "execution_count": 21,
     "metadata": {},
     "output_type": "execute_result"
    }
   ],
   "source": [
    "IsWellDefined( γ )"
   ]
  },
  {
   "cell_type": "code",
   "execution_count": 22,
   "id": "59a9b0bd",
   "metadata": {},
   "outputs": [
    {
     "name": "stdout",
     "output_type": "stream",
     "text": [
      "{ 0, 1 } ⱶ[ 1, 0 ]→ { 0, 1 }\n",
      "\n",
      "A morphism in FiniteStrictProductCompletion( FreeCategory( RightQuiver( \"Q(a,b)[]\" ) ) ) with the above associated map\n"
     ]
    }
   ],
   "source": [
    "Display( γ )"
   ]
  },
  {
   "cell_type": "code",
   "execution_count": 23,
   "id": "a1304d63",
   "metadata": {},
   "outputs": [
    {
     "data": {
      "text/plain": [
       "true"
      ]
     },
     "execution_count": 23,
     "metadata": {},
     "output_type": "execute_result"
    }
   ],
   "source": [
    "γ == CartesianBraiding( a, b )"
   ]
  },
  {
   "cell_type": "code",
   "execution_count": 24,
   "id": "290b733c",
   "metadata": {},
   "outputs": [
    {
     "data": {
      "text/plain": [
       "GAP: LazyCategory( FiniteStrictProductCompletion( FreeCategory( RightQuiver( \"Q(a,b)[]\" ) ) ) )"
      ]
     },
     "execution_count": 24,
     "metadata": {},
     "output_type": "execute_result"
    }
   ],
   "source": [
    "LPC = LazyCategory( PC, primitive_operations = true )"
   ]
  },
  {
   "cell_type": "code",
   "execution_count": 25,
   "id": "a73ea929",
   "metadata": {},
   "outputs": [
    {
     "data": {
      "text/plain": [
       "GAP: Embedding functor into lazy category"
      ]
     },
     "execution_count": 25,
     "metadata": {},
     "output_type": "execute_result"
    }
   ],
   "source": [
    "Emb = EmbeddingFunctorOfUnderlyingCategory( LPC )"
   ]
  },
  {
   "cell_type": "code",
   "execution_count": 26,
   "id": "f27839ff",
   "metadata": {},
   "outputs": [
    {
     "name": "stdout",
     "output_type": "stream",
     "text": [
      "Embedding functor into lazy category:\n",
      "\n",
      "FiniteStrictProductCompletion( FreeCategory( RightQuiver( \"Q(a,b)[]\" ) ) )\n",
      "  |\n",
      "  V\n",
      "LazyCategory( FiniteStrictProductCompletion( FreeCategory( RightQuiver( \"Q(a,b)[]\" ) ) ) )\n"
     ]
    }
   ],
   "source": [
    "Display( Emb )"
   ]
  },
  {
   "cell_type": "code",
   "execution_count": 27,
   "id": "a786a3d8",
   "metadata": {},
   "outputs": [
    {
     "data": {
      "text/plain": [
       "GAP: Precomposition of CoYoneda embedding functor and Embedding functor into lazy category"
      ]
     },
     "execution_count": 27,
     "metadata": {},
     "output_type": "execute_result"
    }
   ],
   "source": [
    "F = PreCompose( CoYonedaEmbeddingOfUnderlyingCategory( PC ), Emb )"
   ]
  },
  {
   "cell_type": "code",
   "execution_count": 28,
   "id": "3a1cc6ee",
   "metadata": {},
   "outputs": [
    {
     "name": "stdout",
     "output_type": "stream",
     "text": [
      "Precomposition of CoYoneda embedding functor and Embedding functor into lazy category:\n",
      "\n",
      "FreeCategory( RightQuiver( \"Q(a,b)[]\" ) )\n",
      "  |\n",
      "  V\n",
      "LazyCategory( FiniteStrictProductCompletion( FreeCategory( RightQuiver( \"Q(a,b)[]\" ) ) ) )\n"
     ]
    }
   ],
   "source": [
    "Display( F )"
   ]
  },
  {
   "cell_type": "code",
   "execution_count": 29,
   "id": "06bfa9d9",
   "metadata": {},
   "outputs": [
    {
     "data": {
      "text/plain": [
       "GAP: Extension to FiniteStrictProductCompletion( Source( Precomposition of CoYoneda embedding functor and Embedding functor into lazy category ) )"
      ]
     },
     "execution_count": 29,
     "metadata": {},
     "output_type": "execute_result"
    }
   ],
   "source": [
    "G = ExtendFunctorToFiniteStrictProductCompletion( F )"
   ]
  },
  {
   "cell_type": "code",
   "execution_count": 30,
   "id": "d9d6a1be",
   "metadata": {},
   "outputs": [
    {
     "name": "stdout",
     "output_type": "stream",
     "text": [
      "Extension to FiniteStrictProductCompletion( Source( Precomposition of CoYoneda embedding functor and Embedding functor into lazy category ) ):\n",
      "\n",
      "FiniteStrictProductCompletion( FreeCategory( RightQuiver( \"Q(a,b)[]\" ) ) )\n",
      "  |\n",
      "  V\n",
      "LazyCategory( FiniteStrictProductCompletion( FreeCategory( RightQuiver( \"Q(a,b)[]\" ) ) ) )\n"
     ]
    }
   ],
   "source": [
    "Display( G )"
   ]
  },
  {
   "cell_type": "code",
   "execution_count": 31,
   "id": "92563975",
   "metadata": {},
   "outputs": [
    {
     "data": {
      "text/plain": [
       "GAP: <A morphism in LazyCategory( FiniteStrictProductCompletion( FreeCategory( RightQuiver( \"Q(a,b)[]\" ) ) ) )>"
      ]
     },
     "execution_count": 31,
     "metadata": {},
     "output_type": "execute_result"
    }
   ],
   "source": [
    "Gγ = G( γ )"
   ]
  },
  {
   "cell_type": "code",
   "execution_count": 32,
   "id": "cffa6c51",
   "metadata": {},
   "outputs": [
    {
     "data": {
      "text/plain": [
       "true"
      ]
     },
     "execution_count": 32,
     "metadata": {},
     "output_type": "execute_result"
    }
   ],
   "source": [
    "IsWellDefined( Gγ )"
   ]
  },
  {
   "cell_type": "code",
   "execution_count": 33,
   "id": "fd8ed668",
   "metadata": {},
   "outputs": [
    {
     "data": {
      "image/svg+xml": [
       "<?xml version=\"1.0\" encoding=\"UTF-8\" standalone=\"no\"?>\n",
       "<!DOCTYPE svg PUBLIC \"-//W3C//DTD SVG 1.1//EN\"\n",
       " \"http://www.w3.org/Graphics/SVG/1.1/DTD/svg11.dtd\">\n",
       "<!-- Generated by graphviz version 2.50.0 (20211204.2007)\n",
       " -->\n",
       "<!-- Title: hgn Pages: 1 -->\n",
       "<svg width=\"770pt\" height=\"522pt\"\n",
       " viewBox=\"0.00 0.00 770.00 522.00\" xmlns=\"http://www.w3.org/2000/svg\" xmlns:xlink=\"http://www.w3.org/1999/xlink\">\n",
       "<g id=\"graph0\" class=\"graph\" transform=\"scale(1 1) rotate(0) translate(4 518)\">\n",
       "<title>hgn</title>\n",
       "<polygon fill=\"white\" stroke=\"transparent\" points=\"-4,4 -4,-518 766,-518 766,4 -4,4\"/>\n",
       "<!-- 1 -->\n",
       "<g id=\"node1\" class=\"node\">\n",
       "<title>1</title>\n",
       "<polygon fill=\"none\" stroke=\"black\" points=\"324.5,-291 251.5,-291 251.5,-238 324.5,-238 324.5,-291\"/>\n",
       "<text text-anchor=\"middle\" x=\"288\" y=\"-275.8\" font-family=\"Times,serif\" font-size=\"14.00\">[1]</text>\n",
       "<text text-anchor=\"middle\" x=\"288\" y=\"-260.8\" font-family=\"Times,serif\" font-size=\"14.00\">primitive</text>\n",
       "<text text-anchor=\"middle\" x=\"288\" y=\"-245.8\" font-family=\"Times,serif\" font-size=\"14.00\">morphism</text>\n",
       "</g>\n",
       "<!-- 9 -->\n",
       "<g id=\"node9\" class=\"node\">\n",
       "<title>9</title>\n",
       "<polygon fill=\"none\" stroke=\"black\" points=\"322,-187 254,-187 254,-134 322,-134 322,-187\"/>\n",
       "<text text-anchor=\"middle\" x=\"288\" y=\"-171.8\" font-family=\"Times,serif\" font-size=\"14.00\">[9]</text>\n",
       "<text text-anchor=\"middle\" x=\"288\" y=\"-156.8\" font-family=\"Times,serif\" font-size=\"14.00\">Pre</text>\n",
       "<text text-anchor=\"middle\" x=\"288\" y=\"-141.8\" font-family=\"Times,serif\" font-size=\"14.00\">Compose</text>\n",
       "</g>\n",
       "<!-- 1&#45;&gt;9 -->\n",
       "<g id=\"edge12\" class=\"edge\">\n",
       "<title>1&#45;&gt;9</title>\n",
       "<path fill=\"none\" stroke=\"black\" d=\"M288,-237.76C288,-225.56 288,-210.78 288,-197.49\"/>\n",
       "<polygon fill=\"black\" stroke=\"black\" points=\"291.5,-197.23 288,-187.23 284.5,-197.23 291.5,-197.23\"/>\n",
       "<text text-anchor=\"middle\" x=\"291.5\" y=\"-208.8\" font-family=\"Times,serif\" font-size=\"14.00\">2</text>\n",
       "</g>\n",
       "<!-- 2 -->\n",
       "<g id=\"node2\" class=\"node\">\n",
       "<title>2</title>\n",
       "<polygon fill=\"none\" stroke=\"black\" points=\"394.5,-514 327.5,-514 327.5,-446 394.5,-446 394.5,-514\"/>\n",
       "<text text-anchor=\"middle\" x=\"361\" y=\"-498.8\" font-family=\"Times,serif\" font-size=\"14.00\">[2]</text>\n",
       "<text text-anchor=\"middle\" x=\"361\" y=\"-483.8\" font-family=\"Times,serif\" font-size=\"14.00\">primitive</text>\n",
       "<text text-anchor=\"middle\" x=\"361\" y=\"-468.8\" font-family=\"Times,serif\" font-size=\"14.00\">object</text>\n",
       "<text text-anchor=\"middle\" x=\"361\" y=\"-453.8\" font-family=\"Times,serif\" font-size=\"14.00\">&lt;a&gt;</text>\n",
       "</g>\n",
       "<!-- 4 -->\n",
       "<g id=\"node4\" class=\"node\">\n",
       "<title>4</title>\n",
       "<polygon fill=\"none\" stroke=\"black\" points=\"390.5,-395 331.5,-395 331.5,-342 390.5,-342 390.5,-395\"/>\n",
       "<text text-anchor=\"middle\" x=\"361\" y=\"-379.8\" font-family=\"Times,serif\" font-size=\"14.00\">[4]</text>\n",
       "<text text-anchor=\"middle\" x=\"361\" y=\"-364.8\" font-family=\"Times,serif\" font-size=\"14.00\">Direct</text>\n",
       "<text text-anchor=\"middle\" x=\"361\" y=\"-349.8\" font-family=\"Times,serif\" font-size=\"14.00\">Product</text>\n",
       "</g>\n",
       "<!-- 2&#45;&gt;4 -->\n",
       "<g id=\"edge1\" class=\"edge\">\n",
       "<title>2&#45;&gt;4</title>\n",
       "<path fill=\"none\" stroke=\"black\" d=\"M361,-445.85C361,-433.03 361,-418.34 361,-405.29\"/>\n",
       "<polygon fill=\"black\" stroke=\"black\" points=\"364.5,-405.24 361,-395.24 357.5,-405.24 364.5,-405.24\"/>\n",
       "<text text-anchor=\"middle\" x=\"364.5\" y=\"-416.8\" font-family=\"Times,serif\" font-size=\"14.00\">1</text>\n",
       "</g>\n",
       "<!-- 5 -->\n",
       "<g id=\"node5\" class=\"node\">\n",
       "<title>5</title>\n",
       "<polygon fill=\"none\" stroke=\"black\" points=\"233,-291 25,-291 25,-238 233,-238 233,-291\"/>\n",
       "<text text-anchor=\"middle\" x=\"129\" y=\"-275.8\" font-family=\"Times,serif\" font-size=\"14.00\">[5]</text>\n",
       "<text text-anchor=\"middle\" x=\"129\" y=\"-260.8\" font-family=\"Times,serif\" font-size=\"14.00\">ProjectionInFactorOfDirectProduct</text>\n",
       "<text text-anchor=\"middle\" x=\"129\" y=\"-245.8\" font-family=\"Times,serif\" font-size=\"14.00\">WithGivenDirectProduct( 1 )</text>\n",
       "</g>\n",
       "<!-- 2&#45;&gt;5 -->\n",
       "<g id=\"edge3\" class=\"edge\">\n",
       "<title>2&#45;&gt;5</title>\n",
       "<path fill=\"none\" stroke=\"black\" d=\"M327.33,-475.8C292.85,-470.89 239.56,-458.6 205,-428 166.95,-394.32 146.53,-337.56 136.72,-300.82\"/>\n",
       "<polygon fill=\"black\" stroke=\"black\" points=\"140.09,-299.86 134.23,-291.03 133.31,-301.58 140.09,-299.86\"/>\n",
       "<text text-anchor=\"middle\" x=\"179.5\" y=\"-364.8\" font-family=\"Times,serif\" font-size=\"14.00\">1</text>\n",
       "</g>\n",
       "<!-- 7 -->\n",
       "<g id=\"node7\" class=\"node\">\n",
       "<title>7</title>\n",
       "<polygon fill=\"none\" stroke=\"black\" points=\"681,-291 473,-291 473,-238 681,-238 681,-291\"/>\n",
       "<text text-anchor=\"middle\" x=\"577\" y=\"-275.8\" font-family=\"Times,serif\" font-size=\"14.00\">[7]</text>\n",
       "<text text-anchor=\"middle\" x=\"577\" y=\"-260.8\" font-family=\"Times,serif\" font-size=\"14.00\">ProjectionInFactorOfDirectProduct</text>\n",
       "<text text-anchor=\"middle\" x=\"577\" y=\"-245.8\" font-family=\"Times,serif\" font-size=\"14.00\">WithGivenDirectProduct( 2 )</text>\n",
       "</g>\n",
       "<!-- 2&#45;&gt;7 -->\n",
       "<g id=\"edge6\" class=\"edge\">\n",
       "<title>2&#45;&gt;7</title>\n",
       "<path fill=\"none\" stroke=\"black\" d=\"M394.89,-468.41C417.66,-460.07 447.35,-446.71 469,-428 510.64,-392.01 542.93,-336.25 560.96,-300.31\"/>\n",
       "<polygon fill=\"black\" stroke=\"black\" points=\"564.18,-301.69 565.45,-291.17 557.9,-298.6 564.18,-301.69\"/>\n",
       "<text text-anchor=\"middle\" x=\"539.5\" y=\"-364.8\" font-family=\"Times,serif\" font-size=\"14.00\">1</text>\n",
       "</g>\n",
       "<!-- 8 -->\n",
       "<g id=\"node8\" class=\"node\">\n",
       "<title>8</title>\n",
       "<polygon fill=\"none\" stroke=\"black\" points=\"637.5,-395 578.5,-395 578.5,-342 637.5,-342 637.5,-395\"/>\n",
       "<text text-anchor=\"middle\" x=\"608\" y=\"-379.8\" font-family=\"Times,serif\" font-size=\"14.00\">[8]</text>\n",
       "<text text-anchor=\"middle\" x=\"608\" y=\"-364.8\" font-family=\"Times,serif\" font-size=\"14.00\">Direct</text>\n",
       "<text text-anchor=\"middle\" x=\"608\" y=\"-349.8\" font-family=\"Times,serif\" font-size=\"14.00\">Product</text>\n",
       "</g>\n",
       "<!-- 2&#45;&gt;8 -->\n",
       "<g id=\"edge10\" class=\"edge\">\n",
       "<title>2&#45;&gt;8</title>\n",
       "<path fill=\"none\" stroke=\"black\" d=\"M394.68,-468.17C423.18,-458.65 464.86,-443.86 500,-428 523.6,-417.35 549.1,-403.64 569.4,-392.18\"/>\n",
       "<polygon fill=\"black\" stroke=\"black\" points=\"571.38,-395.08 578.33,-387.08 567.91,-388.99 571.38,-395.08\"/>\n",
       "<text text-anchor=\"middle\" x=\"533.5\" y=\"-416.8\" font-family=\"Times,serif\" font-size=\"14.00\">2</text>\n",
       "</g>\n",
       "<!-- 11 -->\n",
       "<g id=\"node11\" class=\"node\">\n",
       "<title>11</title>\n",
       "<polygon fill=\"none\" stroke=\"black\" points=\"448.5,-83 321.5,-83 321.5,0 448.5,0 448.5,-83\"/>\n",
       "<text text-anchor=\"middle\" x=\"385\" y=\"-67.8\" font-family=\"Times,serif\" font-size=\"14.00\">[11]</text>\n",
       "<text text-anchor=\"middle\" x=\"385\" y=\"-52.8\" font-family=\"Times,serif\" font-size=\"14.00\">UniversalMorphism</text>\n",
       "<text text-anchor=\"middle\" x=\"385\" y=\"-37.8\" font-family=\"Times,serif\" font-size=\"14.00\">IntoDirectProduct</text>\n",
       "<text text-anchor=\"middle\" x=\"385\" y=\"-22.8\" font-family=\"Times,serif\" font-size=\"14.00\">WithGiven</text>\n",
       "<text text-anchor=\"middle\" x=\"385\" y=\"-7.8\" font-family=\"Times,serif\" font-size=\"14.00\">DirectProduct</text>\n",
       "</g>\n",
       "<!-- 2&#45;&gt;11 -->\n",
       "<g id=\"edge16\" class=\"edge\">\n",
       "<title>2&#45;&gt;11</title>\n",
       "<path fill=\"none\" stroke=\"black\" d=\"M327.36,-476.05C237.74,-467.26 0,-437.53 0,-369.5 0,-369.5 0,-369.5 0,-159.5 0,-95.14 199.43,-62.82 311.22,-49.75\"/>\n",
       "<polygon fill=\"black\" stroke=\"black\" points=\"311.89,-53.2 321.43,-48.59 311.09,-46.25 311.89,-53.2\"/>\n",
       "<text text-anchor=\"middle\" x=\"3.5\" y=\"-260.8\" font-family=\"Times,serif\" font-size=\"14.00\">2</text>\n",
       "</g>\n",
       "<!-- 3 -->\n",
       "<g id=\"node3\" class=\"node\">\n",
       "<title>3</title>\n",
       "<polygon fill=\"none\" stroke=\"black\" points=\"578.5,-514 511.5,-514 511.5,-446 578.5,-446 578.5,-514\"/>\n",
       "<text text-anchor=\"middle\" x=\"545\" y=\"-498.8\" font-family=\"Times,serif\" font-size=\"14.00\">[3]</text>\n",
       "<text text-anchor=\"middle\" x=\"545\" y=\"-483.8\" font-family=\"Times,serif\" font-size=\"14.00\">primitive</text>\n",
       "<text text-anchor=\"middle\" x=\"545\" y=\"-468.8\" font-family=\"Times,serif\" font-size=\"14.00\">object</text>\n",
       "<text text-anchor=\"middle\" x=\"545\" y=\"-453.8\" font-family=\"Times,serif\" font-size=\"14.00\">&lt;b&gt;</text>\n",
       "</g>\n",
       "<!-- 3&#45;&gt;4 -->\n",
       "<g id=\"edge2\" class=\"edge\">\n",
       "<title>3&#45;&gt;4</title>\n",
       "<path fill=\"none\" stroke=\"black\" d=\"M511.25,-458.92C479.67,-440.12 432.54,-412.07 399.5,-392.41\"/>\n",
       "<polygon fill=\"black\" stroke=\"black\" points=\"400.97,-389.21 390.59,-387.11 397.39,-395.23 400.97,-389.21\"/>\n",
       "<text text-anchor=\"middle\" x=\"461.5\" y=\"-416.8\" font-family=\"Times,serif\" font-size=\"14.00\">2</text>\n",
       "</g>\n",
       "<!-- 3&#45;&gt;5 -->\n",
       "<g id=\"edge4\" class=\"edge\">\n",
       "<title>3&#45;&gt;5</title>\n",
       "<path fill=\"none\" stroke=\"black\" d=\"M511.24,-471.36C464.92,-460.61 384.28,-440.91 357,-428 283.38,-393.15 208.45,-334.3 165.47,-297.8\"/>\n",
       "<polygon fill=\"black\" stroke=\"black\" points=\"167.69,-295.1 157.82,-291.26 163.14,-300.42 167.69,-295.1\"/>\n",
       "<text text-anchor=\"middle\" x=\"297.5\" y=\"-364.8\" font-family=\"Times,serif\" font-size=\"14.00\">2</text>\n",
       "</g>\n",
       "<!-- 3&#45;&gt;7 -->\n",
       "<g id=\"edge7\" class=\"edge\">\n",
       "<title>3&#45;&gt;7</title>\n",
       "<path fill=\"none\" stroke=\"black\" d=\"M548.86,-445.99C552.23,-418.2 557.43,-377.43 563,-342 565.1,-328.63 567.7,-314.01 570.09,-301.16\"/>\n",
       "<polygon fill=\"black\" stroke=\"black\" points=\"573.54,-301.77 571.95,-291.29 566.66,-300.47 573.54,-301.77\"/>\n",
       "<text text-anchor=\"middle\" x=\"566.5\" y=\"-364.8\" font-family=\"Times,serif\" font-size=\"14.00\">2</text>\n",
       "</g>\n",
       "<!-- 3&#45;&gt;8 -->\n",
       "<g id=\"edge9\" class=\"edge\">\n",
       "<title>3&#45;&gt;8</title>\n",
       "<path fill=\"none\" stroke=\"black\" d=\"M574.15,-445.78C578.44,-440.07 582.57,-434.02 586,-428 590.17,-420.7 593.83,-412.45 596.9,-404.51\"/>\n",
       "<polygon fill=\"black\" stroke=\"black\" points=\"600.22,-405.65 600.37,-395.05 593.64,-403.24 600.22,-405.65\"/>\n",
       "<text text-anchor=\"middle\" x=\"595.5\" y=\"-416.8\" font-family=\"Times,serif\" font-size=\"14.00\">1</text>\n",
       "</g>\n",
       "<!-- 3&#45;&gt;11 -->\n",
       "<g id=\"edge15\" class=\"edge\">\n",
       "<title>3&#45;&gt;11</title>\n",
       "<path fill=\"none\" stroke=\"black\" d=\"M578.74,-476.6C638.1,-470.33 755,-448.03 755,-369.5 755,-369.5 755,-369.5 755,-159.5 755,-97.99 566.74,-64.7 458.79,-50.67\"/>\n",
       "<polygon fill=\"black\" stroke=\"black\" points=\"458.97,-47.16 448.61,-49.37 458.08,-54.11 458.97,-47.16\"/>\n",
       "<text text-anchor=\"middle\" x=\"758.5\" y=\"-260.8\" font-family=\"Times,serif\" font-size=\"14.00\">1</text>\n",
       "</g>\n",
       "<!-- 4&#45;&gt;5 -->\n",
       "<g id=\"edge5\" class=\"edge\">\n",
       "<title>4&#45;&gt;5</title>\n",
       "<path fill=\"none\" stroke=\"black\" d=\"M331.38,-353.63C305.51,-341.6 266.91,-323.84 233,-309 222.53,-304.42 211.42,-299.66 200.52,-295.05\"/>\n",
       "<polygon fill=\"black\" stroke=\"black\" points=\"201.58,-291.7 191.01,-291.05 198.87,-298.16 201.58,-291.7\"/>\n",
       "<text text-anchor=\"middle\" x=\"268.5\" y=\"-312.8\" font-family=\"Times,serif\" font-size=\"14.00\">3</text>\n",
       "</g>\n",
       "<!-- 4&#45;&gt;7 -->\n",
       "<g id=\"edge8\" class=\"edge\">\n",
       "<title>4&#45;&gt;7</title>\n",
       "<path fill=\"none\" stroke=\"black\" d=\"M390.89,-349.19C411.36,-337.03 439.34,-321.13 465,-309 475.28,-304.14 486.27,-299.38 497.19,-294.89\"/>\n",
       "<polygon fill=\"black\" stroke=\"black\" points=\"498.79,-298.02 506.75,-291.02 496.17,-291.53 498.79,-298.02\"/>\n",
       "<text text-anchor=\"middle\" x=\"468.5\" y=\"-312.8\" font-family=\"Times,serif\" font-size=\"14.00\">3</text>\n",
       "</g>\n",
       "<!-- 4&#45;&gt;11 -->\n",
       "<g id=\"edge17\" class=\"edge\">\n",
       "<title>4&#45;&gt;11</title>\n",
       "<path fill=\"none\" stroke=\"black\" d=\"M362.12,-341.9C364.1,-298.9 368.62,-209.47 375,-134 376.11,-120.93 377.53,-106.84 378.95,-93.72\"/>\n",
       "<polygon fill=\"black\" stroke=\"black\" points=\"382.47,-93.78 380.09,-83.45 375.51,-93.01 382.47,-93.78\"/>\n",
       "<text text-anchor=\"middle\" x=\"373.5\" y=\"-208.8\" font-family=\"Times,serif\" font-size=\"14.00\">3</text>\n",
       "</g>\n",
       "<!-- 5&#45;&gt;9 -->\n",
       "<g id=\"edge11\" class=\"edge\">\n",
       "<title>5&#45;&gt;9</title>\n",
       "<path fill=\"none\" stroke=\"black\" d=\"M169.12,-237.76C192.39,-222.83 221.68,-204.04 245.37,-188.85\"/>\n",
       "<polygon fill=\"black\" stroke=\"black\" points=\"247.29,-191.77 253.82,-183.43 243.51,-185.88 247.29,-191.77\"/>\n",
       "<text text-anchor=\"middle\" x=\"222.5\" y=\"-208.8\" font-family=\"Times,serif\" font-size=\"14.00\">1</text>\n",
       "</g>\n",
       "<!-- 6 -->\n",
       "<g id=\"node6\" class=\"node\">\n",
       "<title>6</title>\n",
       "<polygon fill=\"none\" stroke=\"black\" points=\"454.5,-291 381.5,-291 381.5,-238 454.5,-238 454.5,-291\"/>\n",
       "<text text-anchor=\"middle\" x=\"418\" y=\"-275.8\" font-family=\"Times,serif\" font-size=\"14.00\">[6]</text>\n",
       "<text text-anchor=\"middle\" x=\"418\" y=\"-260.8\" font-family=\"Times,serif\" font-size=\"14.00\">primitive</text>\n",
       "<text text-anchor=\"middle\" x=\"418\" y=\"-245.8\" font-family=\"Times,serif\" font-size=\"14.00\">morphism</text>\n",
       "</g>\n",
       "<!-- 10 -->\n",
       "<g id=\"node10\" class=\"node\">\n",
       "<title>10</title>\n",
       "<polygon fill=\"none\" stroke=\"black\" points=\"452,-187 384,-187 384,-134 452,-134 452,-187\"/>\n",
       "<text text-anchor=\"middle\" x=\"418\" y=\"-171.8\" font-family=\"Times,serif\" font-size=\"14.00\">[10]</text>\n",
       "<text text-anchor=\"middle\" x=\"418\" y=\"-156.8\" font-family=\"Times,serif\" font-size=\"14.00\">Pre</text>\n",
       "<text text-anchor=\"middle\" x=\"418\" y=\"-141.8\" font-family=\"Times,serif\" font-size=\"14.00\">Compose</text>\n",
       "</g>\n",
       "<!-- 6&#45;&gt;10 -->\n",
       "<g id=\"edge14\" class=\"edge\">\n",
       "<title>6&#45;&gt;10</title>\n",
       "<path fill=\"none\" stroke=\"black\" d=\"M418,-237.76C418,-225.56 418,-210.78 418,-197.49\"/>\n",
       "<polygon fill=\"black\" stroke=\"black\" points=\"421.5,-197.23 418,-187.23 414.5,-197.23 421.5,-197.23\"/>\n",
       "<text text-anchor=\"middle\" x=\"421.5\" y=\"-208.8\" font-family=\"Times,serif\" font-size=\"14.00\">2</text>\n",
       "</g>\n",
       "<!-- 7&#45;&gt;10 -->\n",
       "<g id=\"edge13\" class=\"edge\">\n",
       "<title>7&#45;&gt;10</title>\n",
       "<path fill=\"none\" stroke=\"black\" d=\"M536.88,-237.76C513.61,-222.83 484.32,-204.04 460.63,-188.85\"/>\n",
       "<polygon fill=\"black\" stroke=\"black\" points=\"462.49,-185.88 452.18,-183.43 458.71,-191.77 462.49,-185.88\"/>\n",
       "<text text-anchor=\"middle\" x=\"510.5\" y=\"-208.8\" font-family=\"Times,serif\" font-size=\"14.00\">1</text>\n",
       "</g>\n",
       "<!-- 8&#45;&gt;11 -->\n",
       "<g id=\"edge20\" class=\"edge\">\n",
       "<title>8&#45;&gt;11</title>\n",
       "<path fill=\"none\" stroke=\"black\" d=\"M637.79,-349.13C656.63,-335.65 679.37,-315.46 690,-291 699.39,-269.4 701.3,-258.67 690,-238 641.12,-148.61 531.99,-94.07 458.43,-66.07\"/>\n",
       "<polygon fill=\"black\" stroke=\"black\" points=\"459.33,-62.67 448.74,-62.46 456.89,-69.23 459.33,-62.67\"/>\n",
       "<text text-anchor=\"middle\" x=\"681.5\" y=\"-208.8\" font-family=\"Times,serif\" font-size=\"14.00\">6</text>\n",
       "</g>\n",
       "<!-- 9&#45;&gt;11 -->\n",
       "<g id=\"edge19\" class=\"edge\">\n",
       "<title>9&#45;&gt;11</title>\n",
       "<path fill=\"none\" stroke=\"black\" d=\"M306.56,-133.77C314.23,-123.42 323.34,-111.48 332,-101 334.7,-97.73 337.52,-94.4 340.4,-91.06\"/>\n",
       "<polygon fill=\"black\" stroke=\"black\" points=\"343.22,-93.15 347.17,-83.31 337.95,-88.54 343.22,-93.15\"/>\n",
       "<text text-anchor=\"middle\" x=\"335.5\" y=\"-104.8\" font-family=\"Times,serif\" font-size=\"14.00\">5</text>\n",
       "</g>\n",
       "<!-- 10&#45;&gt;11 -->\n",
       "<g id=\"edge18\" class=\"edge\">\n",
       "<title>10&#45;&gt;11</title>\n",
       "<path fill=\"none\" stroke=\"black\" d=\"M410.76,-133.82C407.37,-121.8 403.2,-107.04 399.22,-92.92\"/>\n",
       "<polygon fill=\"black\" stroke=\"black\" points=\"402.59,-91.96 396.5,-83.29 395.85,-93.86 402.59,-91.96\"/>\n",
       "<text text-anchor=\"middle\" x=\"409.5\" y=\"-104.8\" font-family=\"Times,serif\" font-size=\"14.00\">4</text>\n",
       "</g>\n",
       "</g>\n",
       "</svg>\n"
      ]
     },
     "metadata": {},
     "output_type": "display_data"
    }
   ],
   "source": [
    "Visualize( Gγ )"
   ]
  },
  {
   "cell_type": "code",
   "execution_count": 34,
   "id": "1cad3753",
   "metadata": {},
   "outputs": [
    {
     "data": {
      "text/plain": [
       "GAP: <An evaluated object in LazyCategory( FiniteStrictProductCompletion( FreeCategory( RightQuiver( \"Q(a,b)[]\" ) ) ) )>"
      ]
     },
     "execution_count": 34,
     "metadata": {},
     "output_type": "execute_result"
    }
   ],
   "source": [
    "La = LPC.a"
   ]
  },
  {
   "cell_type": "code",
   "execution_count": 35,
   "id": "2668bf3f",
   "metadata": {},
   "outputs": [
    {
     "data": {
      "text/plain": [
       "GAP: <An evaluated object in LazyCategory( FiniteStrictProductCompletion( FreeCategory( RightQuiver( \"Q(a,b)[]\" ) ) ) )>"
      ]
     },
     "execution_count": 35,
     "metadata": {},
     "output_type": "execute_result"
    }
   ],
   "source": [
    "Lb = LPC.b"
   ]
  },
  {
   "cell_type": "code",
   "execution_count": 36,
   "id": "ee8a9e30",
   "metadata": {},
   "outputs": [
    {
     "data": {
      "image/svg+xml": [
       "<?xml version=\"1.0\" encoding=\"UTF-8\" standalone=\"no\"?>\n",
       "<!DOCTYPE svg PUBLIC \"-//W3C//DTD SVG 1.1//EN\"\n",
       " \"http://www.w3.org/Graphics/SVG/1.1/DTD/svg11.dtd\">\n",
       "<!-- Generated by graphviz version 2.50.0 (20211204.2007)\n",
       " -->\n",
       "<!-- Title: hgn Pages: 1 -->\n",
       "<svg width=\"550pt\" height=\"418pt\"\n",
       " viewBox=\"0.00 0.00 549.82 418.00\" xmlns=\"http://www.w3.org/2000/svg\" xmlns:xlink=\"http://www.w3.org/1999/xlink\">\n",
       "<g id=\"graph0\" class=\"graph\" transform=\"scale(1 1) rotate(0) translate(4 414)\">\n",
       "<title>hgn</title>\n",
       "<polygon fill=\"white\" stroke=\"transparent\" points=\"-4,4 -4,-414 545.82,-414 545.82,4 -4,4\"/>\n",
       "<!-- 1 -->\n",
       "<g id=\"node1\" class=\"node\">\n",
       "<title>1</title>\n",
       "<polygon fill=\"none\" stroke=\"black\" points=\"294.32,-410 227.32,-410 227.32,-342 294.32,-342 294.32,-410\"/>\n",
       "<text text-anchor=\"middle\" x=\"260.82\" y=\"-394.8\" font-family=\"Times,serif\" font-size=\"14.00\">[1]</text>\n",
       "<text text-anchor=\"middle\" x=\"260.82\" y=\"-379.8\" font-family=\"Times,serif\" font-size=\"14.00\">primitive</text>\n",
       "<text text-anchor=\"middle\" x=\"260.82\" y=\"-364.8\" font-family=\"Times,serif\" font-size=\"14.00\">object</text>\n",
       "<text text-anchor=\"middle\" x=\"260.82\" y=\"-349.8\" font-family=\"Times,serif\" font-size=\"14.00\">&lt;b&gt;</text>\n",
       "</g>\n",
       "<!-- 3 -->\n",
       "<g id=\"node3\" class=\"node\">\n",
       "<title>3</title>\n",
       "<polygon fill=\"none\" stroke=\"black\" points=\"108.32,-291 49.32,-291 49.32,-238 108.32,-238 108.32,-291\"/>\n",
       "<text text-anchor=\"middle\" x=\"78.82\" y=\"-275.8\" font-family=\"Times,serif\" font-size=\"14.00\">[3]</text>\n",
       "<text text-anchor=\"middle\" x=\"78.82\" y=\"-260.8\" font-family=\"Times,serif\" font-size=\"14.00\">Direct</text>\n",
       "<text text-anchor=\"middle\" x=\"78.82\" y=\"-245.8\" font-family=\"Times,serif\" font-size=\"14.00\">Product</text>\n",
       "</g>\n",
       "<!-- 1&#45;&gt;3 -->\n",
       "<g id=\"edge1\" class=\"edge\">\n",
       "<title>1&#45;&gt;3</title>\n",
       "<path fill=\"none\" stroke=\"black\" d=\"M227.31,-357.46C209.46,-347.9 187.23,-335.67 167.82,-324 150.84,-313.79 132.48,-301.87 116.88,-291.47\"/>\n",
       "<polygon fill=\"black\" stroke=\"black\" points=\"118.77,-288.53 108.51,-285.87 114.87,-294.35 118.77,-288.53\"/>\n",
       "<text text-anchor=\"middle\" x=\"171.32\" y=\"-312.8\" font-family=\"Times,serif\" font-size=\"14.00\">1</text>\n",
       "</g>\n",
       "<!-- 4 -->\n",
       "<g id=\"node4\" class=\"node\">\n",
       "<title>4</title>\n",
       "<polygon fill=\"none\" stroke=\"black\" points=\"290.32,-291 231.32,-291 231.32,-238 290.32,-238 290.32,-291\"/>\n",
       "<text text-anchor=\"middle\" x=\"260.82\" y=\"-275.8\" font-family=\"Times,serif\" font-size=\"14.00\">[4]</text>\n",
       "<text text-anchor=\"middle\" x=\"260.82\" y=\"-260.8\" font-family=\"Times,serif\" font-size=\"14.00\">Direct</text>\n",
       "<text text-anchor=\"middle\" x=\"260.82\" y=\"-245.8\" font-family=\"Times,serif\" font-size=\"14.00\">Product</text>\n",
       "</g>\n",
       "<!-- 1&#45;&gt;4 -->\n",
       "<g id=\"edge4\" class=\"edge\">\n",
       "<title>1&#45;&gt;4</title>\n",
       "<path fill=\"none\" stroke=\"black\" d=\"M260.82,-341.85C260.82,-329.03 260.82,-314.34 260.82,-301.29\"/>\n",
       "<polygon fill=\"black\" stroke=\"black\" points=\"264.32,-301.24 260.82,-291.24 257.32,-301.24 264.32,-301.24\"/>\n",
       "<text text-anchor=\"middle\" x=\"264.32\" y=\"-312.8\" font-family=\"Times,serif\" font-size=\"14.00\">2</text>\n",
       "</g>\n",
       "<!-- 5 -->\n",
       "<g id=\"node5\" class=\"node\">\n",
       "<title>5</title>\n",
       "<polygon fill=\"none\" stroke=\"black\" points=\"247.82,-187 39.82,-187 39.82,-134 247.82,-134 247.82,-187\"/>\n",
       "<text text-anchor=\"middle\" x=\"143.82\" y=\"-171.8\" font-family=\"Times,serif\" font-size=\"14.00\">[5]</text>\n",
       "<text text-anchor=\"middle\" x=\"143.82\" y=\"-156.8\" font-family=\"Times,serif\" font-size=\"14.00\">ProjectionInFactorOfDirectProduct</text>\n",
       "<text text-anchor=\"middle\" x=\"143.82\" y=\"-141.8\" font-family=\"Times,serif\" font-size=\"14.00\">WithGivenDirectProduct( 1 )</text>\n",
       "</g>\n",
       "<!-- 1&#45;&gt;5 -->\n",
       "<g id=\"edge6\" class=\"edge\">\n",
       "<title>1&#45;&gt;5</title>\n",
       "<path fill=\"none\" stroke=\"black\" d=\"M227.26,-350.53C218.41,-342.82 209.47,-333.75 202.82,-324 195.43,-313.17 170.63,-241.38 155.64,-196.92\"/>\n",
       "<polygon fill=\"black\" stroke=\"black\" points=\"158.92,-195.7 152.41,-187.34 152.28,-197.93 158.92,-195.7\"/>\n",
       "<text text-anchor=\"middle\" x=\"191.32\" y=\"-260.8\" font-family=\"Times,serif\" font-size=\"14.00\">2</text>\n",
       "</g>\n",
       "<!-- 6 -->\n",
       "<g id=\"node6\" class=\"node\">\n",
       "<title>6</title>\n",
       "<polygon fill=\"none\" stroke=\"black\" points=\"516.82,-187 308.82,-187 308.82,-134 516.82,-134 516.82,-187\"/>\n",
       "<text text-anchor=\"middle\" x=\"412.82\" y=\"-171.8\" font-family=\"Times,serif\" font-size=\"14.00\">[6]</text>\n",
       "<text text-anchor=\"middle\" x=\"412.82\" y=\"-156.8\" font-family=\"Times,serif\" font-size=\"14.00\">ProjectionInFactorOfDirectProduct</text>\n",
       "<text text-anchor=\"middle\" x=\"412.82\" y=\"-141.8\" font-family=\"Times,serif\" font-size=\"14.00\">WithGivenDirectProduct( 2 )</text>\n",
       "</g>\n",
       "<!-- 1&#45;&gt;6 -->\n",
       "<g id=\"edge9\" class=\"edge\">\n",
       "<title>1&#45;&gt;6</title>\n",
       "<path fill=\"none\" stroke=\"black\" d=\"M294.34,-366.33C317.26,-358.75 346.66,-345.51 364.82,-324 395.39,-287.79 406.49,-232.8 410.52,-197.01\"/>\n",
       "<polygon fill=\"black\" stroke=\"black\" points=\"414.01,-197.3 411.52,-187.01 407.05,-196.61 414.01,-197.3\"/>\n",
       "<text text-anchor=\"middle\" x=\"406.32\" y=\"-260.8\" font-family=\"Times,serif\" font-size=\"14.00\">2</text>\n",
       "</g>\n",
       "<!-- 7 -->\n",
       "<g id=\"node7\" class=\"node\">\n",
       "<title>7</title>\n",
       "<polygon fill=\"none\" stroke=\"black\" points=\"312.32,-83 185.32,-83 185.32,0 312.32,0 312.32,-83\"/>\n",
       "<text text-anchor=\"middle\" x=\"248.82\" y=\"-67.8\" font-family=\"Times,serif\" font-size=\"14.00\">[7]</text>\n",
       "<text text-anchor=\"middle\" x=\"248.82\" y=\"-52.8\" font-family=\"Times,serif\" font-size=\"14.00\">UniversalMorphism</text>\n",
       "<text text-anchor=\"middle\" x=\"248.82\" y=\"-37.8\" font-family=\"Times,serif\" font-size=\"14.00\">IntoDirectProduct</text>\n",
       "<text text-anchor=\"middle\" x=\"248.82\" y=\"-22.8\" font-family=\"Times,serif\" font-size=\"14.00\">WithGiven</text>\n",
       "<text text-anchor=\"middle\" x=\"248.82\" y=\"-7.8\" font-family=\"Times,serif\" font-size=\"14.00\">DirectProduct</text>\n",
       "</g>\n",
       "<!-- 1&#45;&gt;7 -->\n",
       "<g id=\"edge11\" class=\"edge\">\n",
       "<title>1&#45;&gt;7</title>\n",
       "<path fill=\"none\" stroke=\"black\" d=\"M294.52,-363.36C381.43,-331.51 601.23,-238.33 525.82,-134 479.85,-70.4 388.04,-50.27 322.73,-44.28\"/>\n",
       "<polygon fill=\"black\" stroke=\"black\" points=\"322.74,-40.77 312.48,-43.44 322.16,-47.75 322.74,-40.77\"/>\n",
       "<text text-anchor=\"middle\" x=\"538.32\" y=\"-208.8\" font-family=\"Times,serif\" font-size=\"14.00\">1</text>\n",
       "</g>\n",
       "<!-- 2 -->\n",
       "<g id=\"node2\" class=\"node\">\n",
       "<title>2</title>\n",
       "<polygon fill=\"none\" stroke=\"black\" points=\"178.32,-410 111.32,-410 111.32,-342 178.32,-342 178.32,-410\"/>\n",
       "<text text-anchor=\"middle\" x=\"144.82\" y=\"-394.8\" font-family=\"Times,serif\" font-size=\"14.00\">[2]</text>\n",
       "<text text-anchor=\"middle\" x=\"144.82\" y=\"-379.8\" font-family=\"Times,serif\" font-size=\"14.00\">primitive</text>\n",
       "<text text-anchor=\"middle\" x=\"144.82\" y=\"-364.8\" font-family=\"Times,serif\" font-size=\"14.00\">object</text>\n",
       "<text text-anchor=\"middle\" x=\"144.82\" y=\"-349.8\" font-family=\"Times,serif\" font-size=\"14.00\">&lt;a&gt;</text>\n",
       "</g>\n",
       "<!-- 2&#45;&gt;3 -->\n",
       "<g id=\"edge2\" class=\"edge\">\n",
       "<title>2&#45;&gt;3</title>\n",
       "<path fill=\"none\" stroke=\"black\" d=\"M111.3,-349.42C103.54,-342 96.03,-333.35 90.82,-324 86.96,-317.07 84.34,-309.06 82.56,-301.24\"/>\n",
       "<polygon fill=\"black\" stroke=\"black\" points=\"85.95,-300.34 80.66,-291.16 79.07,-301.63 85.95,-300.34\"/>\n",
       "<text text-anchor=\"middle\" x=\"94.32\" y=\"-312.8\" font-family=\"Times,serif\" font-size=\"14.00\">2</text>\n",
       "</g>\n",
       "<!-- 2&#45;&gt;4 -->\n",
       "<g id=\"edge3\" class=\"edge\">\n",
       "<title>2&#45;&gt;4</title>\n",
       "<path fill=\"none\" stroke=\"black\" d=\"M178.37,-343.33C193.3,-329.24 210.88,-312.65 225.95,-298.41\"/>\n",
       "<polygon fill=\"black\" stroke=\"black\" points=\"228.72,-300.62 233.59,-291.21 223.91,-295.53 228.72,-300.62\"/>\n",
       "<text text-anchor=\"middle\" x=\"216.32\" y=\"-312.8\" font-family=\"Times,serif\" font-size=\"14.00\">1</text>\n",
       "</g>\n",
       "<!-- 2&#45;&gt;5 -->\n",
       "<g id=\"edge5\" class=\"edge\">\n",
       "<title>2&#45;&gt;5</title>\n",
       "<path fill=\"none\" stroke=\"black\" d=\"M144.66,-341.64C144.48,-302.45 144.18,-237.69 143.99,-197.43\"/>\n",
       "<polygon fill=\"black\" stroke=\"black\" points=\"147.49,-197.24 143.94,-187.25 140.49,-197.27 147.49,-197.24\"/>\n",
       "<text text-anchor=\"middle\" x=\"147.32\" y=\"-260.8\" font-family=\"Times,serif\" font-size=\"14.00\">1</text>\n",
       "</g>\n",
       "<!-- 2&#45;&gt;6 -->\n",
       "<g id=\"edge8\" class=\"edge\">\n",
       "<title>2&#45;&gt;6</title>\n",
       "<path fill=\"none\" stroke=\"black\" d=\"M178.44,-359.22C191,-353.54 205.46,-347.23 218.82,-342 241.98,-332.92 251.17,-337.88 271.82,-324 322.91,-289.67 366.65,-232.2 391.33,-195.61\"/>\n",
       "<polygon fill=\"black\" stroke=\"black\" points=\"394.28,-197.5 396.9,-187.24 388.45,-193.63 394.28,-197.5\"/>\n",
       "<text text-anchor=\"middle\" x=\"362.32\" y=\"-260.8\" font-family=\"Times,serif\" font-size=\"14.00\">1</text>\n",
       "</g>\n",
       "<!-- 2&#45;&gt;7 -->\n",
       "<g id=\"edge12\" class=\"edge\">\n",
       "<title>2&#45;&gt;7</title>\n",
       "<path fill=\"none\" stroke=\"black\" d=\"M111.28,-356C87.98,-341.16 57.97,-318.46 39.82,-291 0.75,-231.86 -10.1,-201.4 11.82,-134 32.72,-69.73 113.5,-49.62 175,-43.83\"/>\n",
       "<polygon fill=\"black\" stroke=\"black\" points=\"175.4,-47.31 185.07,-42.99 174.82,-40.33 175.4,-47.31\"/>\n",
       "<text text-anchor=\"middle\" x=\"8.32\" y=\"-208.8\" font-family=\"Times,serif\" font-size=\"14.00\">2</text>\n",
       "</g>\n",
       "<!-- 3&#45;&gt;7 -->\n",
       "<g id=\"edge16\" class=\"edge\">\n",
       "<title>3&#45;&gt;7</title>\n",
       "<path fill=\"none\" stroke=\"black\" d=\"M53.74,-237.97C30.14,-210.77 1.53,-167.13 23.82,-134 57.44,-84.04 123.56,-61.35 175.46,-51.04\"/>\n",
       "<polygon fill=\"black\" stroke=\"black\" points=\"176.12,-54.48 185.31,-49.2 174.83,-47.6 176.12,-54.48\"/>\n",
       "<text text-anchor=\"middle\" x=\"27.32\" y=\"-156.8\" font-family=\"Times,serif\" font-size=\"14.00\">6</text>\n",
       "</g>\n",
       "<!-- 4&#45;&gt;5 -->\n",
       "<g id=\"edge7\" class=\"edge\">\n",
       "<title>4&#45;&gt;5</title>\n",
       "<path fill=\"none\" stroke=\"black\" d=\"M237.08,-237.87C226.88,-227.31 214.62,-215.19 202.82,-205 198.32,-201.11 193.49,-197.19 188.61,-193.38\"/>\n",
       "<polygon fill=\"black\" stroke=\"black\" points=\"190.46,-190.39 180.39,-187.1 186.21,-195.95 190.46,-190.39\"/>\n",
       "<text text-anchor=\"middle\" x=\"221.32\" y=\"-208.8\" font-family=\"Times,serif\" font-size=\"14.00\">3</text>\n",
       "</g>\n",
       "<!-- 4&#45;&gt;6 -->\n",
       "<g id=\"edge10\" class=\"edge\">\n",
       "<title>4&#45;&gt;6</title>\n",
       "<path fill=\"none\" stroke=\"black\" d=\"M288.24,-237.83C300.47,-227.03 315.36,-214.74 329.82,-205 336.37,-200.59 343.41,-196.29 350.53,-192.21\"/>\n",
       "<polygon fill=\"black\" stroke=\"black\" points=\"352.53,-195.11 359.56,-187.18 349.12,-188.99 352.53,-195.11\"/>\n",
       "<text text-anchor=\"middle\" x=\"333.32\" y=\"-208.8\" font-family=\"Times,serif\" font-size=\"14.00\">3</text>\n",
       "</g>\n",
       "<!-- 4&#45;&gt;7 -->\n",
       "<g id=\"edge13\" class=\"edge\">\n",
       "<title>4&#45;&gt;7</title>\n",
       "<path fill=\"none\" stroke=\"black\" d=\"M260.45,-237.68C259.98,-211.53 258.94,-169.93 256.82,-134 256.04,-120.81 254.93,-106.58 253.78,-93.35\"/>\n",
       "<polygon fill=\"black\" stroke=\"black\" points=\"257.23,-92.65 252.86,-83 250.26,-93.27 257.23,-92.65\"/>\n",
       "<text text-anchor=\"middle\" x=\"262.32\" y=\"-156.8\" font-family=\"Times,serif\" font-size=\"14.00\">3</text>\n",
       "</g>\n",
       "<!-- 5&#45;&gt;7 -->\n",
       "<g id=\"edge15\" class=\"edge\">\n",
       "<title>5&#45;&gt;7</title>\n",
       "<path fill=\"none\" stroke=\"black\" d=\"M166.86,-133.82C178.17,-121.22 192.18,-105.61 205.39,-90.89\"/>\n",
       "<polygon fill=\"black\" stroke=\"black\" points=\"208.14,-93.07 212.21,-83.29 202.93,-88.39 208.14,-93.07\"/>\n",
       "<text text-anchor=\"middle\" x=\"199.32\" y=\"-104.8\" font-family=\"Times,serif\" font-size=\"14.00\">5</text>\n",
       "</g>\n",
       "<!-- 6&#45;&gt;7 -->\n",
       "<g id=\"edge14\" class=\"edge\">\n",
       "<title>6&#45;&gt;7</title>\n",
       "<path fill=\"none\" stroke=\"black\" d=\"M376.83,-133.82C358.43,-120.7 335.47,-104.32 314.09,-89.07\"/>\n",
       "<polygon fill=\"black\" stroke=\"black\" points=\"315.85,-86.02 305.68,-83.06 311.78,-91.72 315.85,-86.02\"/>\n",
       "<text text-anchor=\"middle\" x=\"353.32\" y=\"-104.8\" font-family=\"Times,serif\" font-size=\"14.00\">4</text>\n",
       "</g>\n",
       "</g>\n",
       "</svg>\n"
      ]
     },
     "metadata": {},
     "output_type": "display_data"
    }
   ],
   "source": [
    "Visualize( CartesianBraiding( La, Lb ) )"
   ]
  }
 ],
 "metadata": {
  "@webio": {
   "lastCommId": null,
   "lastKernelId": null
  },
  "kernelspec": {
   "display_name": "Julia 1.8.4",
   "language": "julia",
   "name": "julia-1.8"
  },
  "language_info": {
   "file_extension": ".jl",
   "mimetype": "application/julia",
   "name": "julia",
   "version": "1.8.4"
  }
 },
 "nbformat": 4,
 "nbformat_minor": 5
}
